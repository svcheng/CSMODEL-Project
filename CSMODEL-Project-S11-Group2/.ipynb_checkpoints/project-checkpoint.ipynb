{
 "cells": [
  {
   "cell_type": "code",
   "execution_count": 1,
   "id": "a368517a",
   "metadata": {},
   "outputs": [],
   "source": [
    "import numpy as np\n",
    "import pandas as pd\n",
    "import scipy.stats as sp\n",
    "import matplotlib.pyplot as plt"
   ]
  },
  {
   "cell_type": "markdown",
   "id": "a14a6417",
   "metadata": {},
   "source": [
    "# Dataset Description"
   ]
  },
  {
   "cell_type": "markdown",
   "id": "5ba4836f",
   "metadata": {},
   "source": [
    "## Board Games Dataset\n",
    "\n",
    "[This dataset](https://www.kaggle.com/datasets/threnjen/board-games-database-from-boardgamegeek) provides comprehensive information about various board games, including details such as their names, descriptions, publication years, complexity ratings, user ratings, player counts, age recommendations, and category classifications. The data is primarily sourced from BoardGameGeek (BGG) and covers a wide range of board games.\n",
    "\n",
    "This dataset provides the opportunity to derive insights into the board gaming industry, understanding which game attributes or categories tend to attract a wider audience and discerning patterns in what contributes to a game's overall success. These insights can inform game development strategies and marketing.\n",
    "\n",
    "## Data Sources\n",
    "\n",
    "The data in this dataset is primarily obtained from [BoardGameGeek (BGG)](https://boardgamegeek.com/), a website dedicated to cataloging board games and various tabletop games. While BGG does not have rigid criteria for determining a game's eligibility for inclusion, it expressly omits certain categories from consideration, including:\n",
    "\n",
    "- Role Playing Games\n",
    "- Electronic Games (e.g., XBox, PC, PlayStation, mobile)\n",
    "- Toys\n",
    "- Sports\n",
    "\n",
    "## Collection Process\n",
    "According to the BoardGameGeek FAQ, their comprehensive database has been methodically and voluntarily curated by their user community, game by game. This invaluable dataset is readily accessible through versatile queries and the utilization of \"data mining\" techniques, rendering it a valuable resource for academic research.\n",
    "\n",
    "The typical process of adding a game to their database includes reading the \"Add A Game\" page and completing the provided form. Game submissions are subject to approval by the administrators, with approval times typically ranging from a few days to a few weeks.\n"
   ]
  },
  {
   "cell_type": "markdown",
   "id": "83bcb5b1",
   "metadata": {},
   "source": [
    "## Dataset Structure\n",
    "For this project, we will mainly focus on the \"games\" table from the dataset.\n",
    "\n",
    "The columns represent the variables, and each row will represent an entry."
   ]
  },
  {
   "cell_type": "markdown",
   "id": "1f65bd6b",
   "metadata": {},
   "source": [
    "### Variables\n",
    "**games.csv**\n",
    "\n",
    "1. **BGGId:** - A unique identifier for each board game listing on BoardGameGeek.\n",
    "\n",
    "2. **Name:** - The title of the board game.\n",
    "\n",
    "3. **YearPublished:** - The initial release year of the board game.\n",
    "\n",
    "4. **GameWeight:** - A rating indicating the difficulty or complexity level of the game.\n",
    "\n",
    "5. **AvgRating:** - The average rating given to the game by users.\n",
    "\n",
    "6. **BayesAvgRating:** - A weighted average rating that considers the number of reviews applied.\n",
    "\n",
    "7. **StdDev:** - The standard deviation associated with the Bayes average rating.\n",
    "\n",
    "8. **MinPlayers:** - The minimum number of players required to play the game.\n",
    "\n",
    "9. **MaxPlayers:** - The maximum number of players that can participate in the game.\n",
    "\n",
    "10. **ComAgeRec:** - The minimum recommended age for players, as determined by the community.\n",
    "\n",
    "11. **LanguageEase:** - An indication of the game's language complexity or requirements.\n",
    "\n",
    "12. **BestPlayers:** - The player count that the community has voted as the best for the game.\n",
    "\n",
    "13. **GoodPlayers:** - A list of player counts that the community considers suitable for the game.\n",
    "\n",
    "14. **NumOwned:** - The number of users who own a copy of the game.\n",
    "\n",
    "15. **NumWant:** - The number of users who have expressed interest in acquiring the game.\n",
    "\n",
    "16. **NumWish:** - The number of users who have added the game to their wishlist.\n",
    "\n",
    "17. **NumWeightVotes:** - The purpose of this column is not specified.\n",
    "\n",
    "18. **MfgPlayTime:** - The playtime recommended by the game's manufacturer.\n",
    "\n",
    "19. **ComMinPlaytime:** - The minimum playtime as determined by the gaming community.\n",
    "\n",
    "20. **ComMaxPlaytime:** - The maximum playtime as determined by the gaming community.\n",
    "\n",
    "21. **MfgAgeRec:** - The age recommendation provided by the game's manufacturer.\n",
    "\n",
    "22. **NumUserRatings:** - The total count of user ratings given to the game.\n",
    "\n",
    "23. **NumComments:** - The total count of comments and reviews provided by users.\n",
    "\n",
    "24. **NumAlternates:** - The number of alternative versions or editions of the game.\n",
    "\n",
    "25. **NumExpansions:** - The number of expansion packs or additional content released for the game.\n",
    "\n",
    "26. **NumImplementations:** - The number of digital implementations or adaptations of the game.\n",
    "\n",
    "27. **IsReimplementation:** - A binary indicator that specifies whether the game is a reimplementation of a previous one.\n",
    "\n",
    "28. **Family:** - The family or category to which the game belongs.\n",
    "\n",
    "29. **Kickstarted:** - A binary indicator specifying whether the game was funded through Kickstarter.\n",
    "\n",
    "30. **ImagePath:** - The path to the game's image on the internet.\n",
    "\n",
    "31. **Rank:boardgame:** - The game's overall ranking among all board games on BoardGameGeek.\n",
    "\n",
    "32. **Rank:strategygames:** - The game's ranking within the strategy games category.\n",
    "\n",
    "33. **Rank:abstracts:** - The game's ranking within the abstracts category.\n",
    "\n",
    "34. **Rank:familygames:** - The game's ranking within the family games category.\n",
    "\n",
    "35. **Rank:thematic:** - The game's ranking within the thematic games category.\n",
    "\n",
    "36. **Rank:cgs:** - The game's ranking within the card games category.\n",
    "\n",
    "37. **Rank:wargames:** - The game's ranking within the war games category.\n",
    "\n",
    "38. **Rank:partygames:** - The game's ranking within the party games category.\n",
    "\n",
    "39. **Rank:childrensgames:** - The game's ranking within the children's games category.\n",
    "\n",
    "40. **Cat:Thematic:** - A binary indicator specifying whether the game falls into the thematic category.\n",
    "\n",
    "41. **Cat:Strategy:** - A binary indicator specifying whether the game falls into the strategy category.\n",
    "\n",
    "42. **Cat:War:** - A binary indicator specifying whether the game falls into the war category.\n",
    "\n",
    "43. **Cat:Family:** - A binary indicator specifying whether the game falls into the family category.\n",
    "\n",
    "44. **Cat:CGS:** - A binary indicator specifying whether the game falls into the card games category.\n",
    "\n",
    "45. **Cat:Abstract:** - A binary indicator specifying whether the game falls into the abstract category.\n",
    "\n",
    "46. **Cat:Party:** - A binary indicator specifying whether the game falls into the party games category.\n",
    "\n",
    "47. **Cat:Childrens:** - A binary indicator specifying whether the game falls into the children's games category.\n",
    "\n",
    "This file contains **47 variables with 21925 entries**.\n",
    "________________________________________________________________________________________________________________________________\n",
    "**mechanics.csv**\n",
    "\n",
    "1. **BGGId** - BoardGameGeek game ID\\\n",
    "Remaining columns are various mechanics with binary flag\n",
    "\n",
    "This file contains **158 variables with 21925 entries**.\n",
    "________________________________________________________________________________________________________________________________\n",
    "**themes.csv**\n",
    "1. **BGGId** - BoardGameGeek game ID \\\n",
    "Remaining columns are various themes with binary flag \n",
    "\n",
    "This file contains **218 variables with 21925 entries**.\n",
    "________________________________________________________________________________________________________________________________\n",
    "**subcategories.csv**\n",
    "1. **BGGId** - BoardGameGeek game ID \\\n",
    "Remaining columns are various subcategories with binary flag \n",
    "\n",
    "This file contains **11 variables with 21925 entries**.\n",
    "________________________________________________________________________________________________________________________________\n",
    "**artists_reduced.csv**\n",
    "1. **BGGId** - BoardGameGeek game ID\n",
    "2. **Low-Exp Artist** - Indicates game has an unlisted artist with <= 3 entries\\\n",
    "Remaining columns are various artists with binary flag \n",
    "\n",
    "This file contains **1681 variables with 21925 entries**.\n",
    "________________________________________________________________________________________________________________________________\n",
    "**designers_reduced.csv**\n",
    "1. **BGGId** - BoardGameGeek game ID\n",
    "2. **Low-Exp Designer** - Indicates game has an unlisted designer with <= 3 entries\\\n",
    "Remaining columns are various designers with binary flag \n",
    "This file contains **1681 variables with 21925 entries**.\n",
    "________________________________________________________________________________________________________________________________\n",
    "**publishers_reduced.csv**\n",
    "1. **BGGId** - BoardGameGeek game ID \n",
    "2. **Low-Exp Publisher** - Indicates game has an unlisted publisher with <= 3 entries\\\n",
    "Remaining columns are various publishers with binary flag \n",
    "\n",
    "This file contains **1866 variables with 21925 entries**.\n",
    "________________________________________________________________________________________________________________________________\n",
    "**user_ratings.csv**\n",
    "1. **BGGId** - BoardGameGeek game ID \n",
    "2. **Rating** - Raw rating given by user\n",
    "3. **Username** - User giving rating\n",
    "\n",
    "This file contains **3 variables with 18942215 entries**.\n",
    "________________________________________________________________________________________________________________________________\n",
    "**ratings_distribution.csv**\n",
    "1. **BGGId** - BoardGameGeek game ID \n",
    "2. **Numbers 0.0-10.0** - Number of ratings per rating header\n",
    "3. **total_ratings** - Total number of ratings for game\n",
    "\n",
    "This file contains **96 variables with 21925 entries**."
   ]
  },
  {
   "cell_type": "markdown",
   "id": "5eef2c4b",
   "metadata": {},
   "source": [
    "# Data Cleaning"
   ]
  },
  {
   "cell_type": "markdown",
   "id": "cae7eff5",
   "metadata": {},
   "source": [
    "### Load Relevant Files of Dataset"
   ]
  },
  {
   "cell_type": "code",
   "execution_count": 2,
   "id": "80bb638f",
   "metadata": {},
   "outputs": [],
   "source": [
    "load_csv = lambda csv_name: pd.read_csv(f'dataset/{csv_name}.csv')\n",
    "\n",
    "games = load_csv('games')\n",
    "games = games[['BGGId', 'Name', 'GameWeight', 'AvgRating', 'YearPublished', 'NumOwned', 'MfgAgeRec', 'ComAgeRec']]\n",
    "games.head()"
   ]
  },
  {
   "cell_type": "markdown",
   "id": "93968713",
   "metadata": {},
   "source": [
    "### Check if data needs to be cleaned"
   ]
  },
  {
   "cell_type": "markdown",
   "id": "574a7920",
   "metadata": {},
   "source": [
    "Before analyzing the data, we first check for any 'dirtiness' in the relevant columns."
   ]
  },
  {
   "cell_type": "code",
   "execution_count": 3,
   "id": "9b506310",
   "metadata": {},
   "outputs": [],
   "source": [
    "def check_cleanliness_property(name, f):\n",
    "    print(name + '\\n---------------------\\n')\n",
    "    games.columns.map(lambda col: print(f\"{col.ljust(14)}: {f(games[col])}\"))\n",
    "    print()\n",
    "\n",
    "# check types \n",
    "check_cleanliness_property('Data Type', lambda s: s.dtype)\n",
    "\n",
    "# check range of values\n",
    "check_cleanliness_property('Range of Values', lambda s: f'[{s.min()}, {s.max()}]')\n",
    "\n",
    "# check for missing values\n",
    "check_cleanliness_property('Has missing values?', lambda s: s.isna().any())\n",
    "\n",
    "# check for duplicates in games dataframe\n",
    "print(f\"Games has duplicate rows: {games.duplicated().any()}\")"
   ]
  },
  {
   "cell_type": "markdown",
   "id": "4e3a72ec",
   "metadata": {},
   "source": [
    "All data types are appropriate. The table has no duplicate rows. With the possible exception of Year Published, the ranges of values of the features are within their allowable values, suggesting no default values are used to mark missing data. No column has missing values except for ComAgeRec."
   ]
  },
  {
   "cell_type": "markdown",
   "id": "09ed12f3",
   "metadata": {},
   "source": [
    "### Clean YearPublished and ComAgeRec"
   ]
  },
  {
   "cell_type": "markdown",
   "id": "630a10ab",
   "metadata": {},
   "source": [
    "We now investigate YearPublished further to see whether it really contains invalid values. We can visualize it with a histogram to see the spread of its values."
   ]
  },
  {
   "cell_type": "code",
   "execution_count": 4,
   "id": "511ab3d9",
   "metadata": {},
   "outputs": [],
   "source": [
    "plt.hist(games['YearPublished'], bins=15)\n",
    "plt.show()"
   ]
  },
  {
   "cell_type": "markdown",
   "id": "46442cf7",
   "metadata": {},
   "source": [
    "We can observe from the graph that there are a small number of games with a year of publication less than 1000. "
   ]
  },
  {
   "cell_type": "code",
   "execution_count": 5,
   "id": "1ec70ffc",
   "metadata": {
    "scrolled": true
   },
   "outputs": [],
   "source": [
    "pd.set_option('display.max_rows', None)\n",
    "\n",
    "df = games.query('YearPublished < 1000')[['Name', 'YearPublished', 'NumOwned']].sort_values('YearPublished')\n",
    "print(\"Number of board games with YearPublished < 1000:\", df.shape[0])\n",
    "df"
   ]
  },
  {
   "cell_type": "markdown",
   "id": "0f318e6a",
   "metadata": {},
   "source": [
    "Looking at these 213 board games, a few things should be noted. First, 0 is not a valid value for a year of publication because the Gregorian calendar does not have a 0th year, so entries with YearPublished = 0 were either encoded wrong or have 0 as a placeholder for a missing value. Second, there is nothing invalid about the values that are not 0, since some board games really were invented a very long time ago and negative values correspond to years 'BC'. Since there are only less than 213 rows with YearPublished = 0 out of over 21 thousand, we decide to remove them."
   ]
  },
  {
   "cell_type": "code",
   "execution_count": 6,
   "id": "dfdbdedf",
   "metadata": {},
   "outputs": [],
   "source": [
    "games = games[games['YearPublished'] != 0]\n",
    "\n",
    "print('Proportion of rows with missing ComAgeRec: ', games['ComAgeRec'].isna().sum() / games.shape[0])\n",
    "print('Number of rows after deletion:', games.shape[0])"
   ]
  },
  {
   "cell_type": "markdown",
   "id": "fc6e8ab7",
   "metadata": {},
   "source": [
    "There are many missing values there are in ComAgeRec, so it we do not want to delete them all. We also do not want to use MfgAgeRec as a substitute variable for representing age requirements either, since..."
   ]
  },
  {
   "cell_type": "code",
   "execution_count": 7,
   "id": "1fcd46ae",
   "metadata": {},
   "outputs": [],
   "source": [
    "print('Number of Unique Values In MfgAgeRec:', games['MfgAgeRec'].unique().size)\n",
    "print('Number of Unique Values In ComAgeRec:', games['ComAgeRec'].unique().size)\n",
    "\n",
    "games['MfgAgeRec'].value_counts().plot.bar()"
   ]
  },
  {
   "cell_type": "markdown",
   "id": "e2897df0",
   "metadata": {},
   "source": [
    "The variable looks categorical despite being numerical, likely due to the way manufacturers assign recommended ages to their board games. Because of this, we'll drop it and use imputation to handle the missing values in ComAgeRec. We'll replace missing values with the median since it is resistant to skewness and outliers."
   ]
  },
  {
   "cell_type": "code",
   "execution_count": 8,
   "id": "00266096",
   "metadata": {},
   "outputs": [],
   "source": [
    "games.drop(columns=['MfgAgeRec'], inplace=True)\n",
    "games.fillna(games['ComAgeRec'].median(), inplace=True)\n",
    "\n",
    "# check if dataframe was modified\n",
    "games['ComAgeRec'].isna().sum()"
   ]
  },
  {
   "cell_type": "markdown",
   "id": "3244ec3a",
   "metadata": {},
   "source": [
    "# Exploratory Data Analysis"
   ]
  },
  {
   "cell_type": "markdown",
   "id": "56b9235c",
   "metadata": {},
   "source": [
    "### Which variables have outliers?"
   ]
  },
  {
   "cell_type": "markdown",
   "id": "86adb9e4",
   "metadata": {},
   "source": [
    "Knowing that YearPublished has extreme values, we should also check the other features for outliers before looking at the distribution."
   ]
  },
  {
   "cell_type": "code",
   "execution_count": 9,
   "id": "07d346f5",
   "metadata": {},
   "outputs": [],
   "source": [
    "plot_vars = [col for col in games.columns[2:]]\n",
    "\n",
    "fig, ax = plt.subplots(2, 3, figsize=(15, 10))\n",
    "for i in range(2):\n",
    "    for j in range(3):\n",
    "        if 3*i + j < len(plot_vars):\n",
    "            ax[i, j].boxplot(games[plot_vars[3*i + j]])\n",
    "            ax[i, j].title.set_text(plot_vars[3*i + j])\n",
    "            ax[i, j].axes.get_xaxis().set_visible(False) # hide x-axis\n",
    "        else:\n",
    "            fig.delaxes(ax[i,j])\n",
    "        \n",
    "plt.show()"
   ]
  },
  {
   "cell_type": "markdown",
   "id": "eff3e6e0",
   "metadata": {},
   "source": [
    "Looking at the boxplots, we can see that all the variables have extreme values. Since we don't yet know the distributions of the variables, we use the interquartile range to identify outliers instead of the Z-scores. Any observation greater than Q3 + 1.5(IQR) or less than Q1 - 1.5(IQR), i.e. any observation with a feature outside the whiskers, will be considered an outlier."
   ]
  },
  {
   "cell_type": "code",
   "execution_count": 10,
   "id": "de372dd6",
   "metadata": {},
   "outputs": [],
   "source": [
    "# get Q1, Q3, and IQR for every variable\n",
    "quartiles = games[plot_vars].quantile([0.25, 0.75]) \n",
    "IQRs = pd.Series([quartiles[col][0.75] - quartiles[col][0.25] for col in plot_vars], index=plot_vars)\n",
    "\n",
    "# return lower/upper whiskers of a variable using its quartile\n",
    "def get_whisker(col, lower):\n",
    "    dist = 1.5*IQRs[col]\n",
    "    \n",
    "    if lower:\n",
    "        return quartiles[col][0.25] - dist\n",
    "    else:\n",
    "        return quartiles[col][0.75] + dist\n",
    "    \n",
    "lower_whiskers = pd.Series([get_whisker(col, True) for col in plot_vars], index=plot_vars)\n",
    "upper_whiskers = pd.Series([get_whisker(col, False) for col in plot_vars], index=plot_vars)\n",
    "\n",
    "print(quartiles, '\\n')\n",
    "print(IQRs, '\\n')\n",
    "print('Lower Whiskers:\\n', lower_whiskers, '\\n')\n",
    "print('Upper Whiskers:\\n', upper_whiskers, '\\n')\n",
    "\n",
    "filt = lambda row: row.between(lower_whiskers, upper_whiskers).all()"
   ]
  },
  {
   "cell_type": "markdown",
   "id": "d39da9aa",
   "metadata": {},
   "source": [
    "We now check how many observations do not have at least one feature with an extreme value."
   ]
  },
  {
   "cell_type": "code",
   "execution_count": 11,
   "id": "17b7ff48",
   "metadata": {},
   "outputs": [],
   "source": [
    "extreme = games.shape[0] - games[plot_vars].apply(filt, axis=1).sum()\n",
    "\n",
    "print('# of extreme values:', extreme)\n",
    "print('Proportion of extreme values:', extreme/games.shape[0])"
   ]
  },
  {
   "cell_type": "markdown",
   "id": "fac61e1c",
   "metadata": {},
   "source": [
    "Since many observations have extreme values, we will not delete outlier observations and instead impose a cap on them. We'll use the lower and upper whiskers as the caps."
   ]
  },
  {
   "cell_type": "code",
   "execution_count": 12,
   "id": "964e5856",
   "metadata": {},
   "outputs": [],
   "source": [
    "# the new series after every number has been capped\n",
    "def cap_col(series):\n",
    "    l, h = lower_whiskers[series.name], upper_whiskers[series.name]\n",
    "    \n",
    "    def cap(x):\n",
    "        if x > h:\n",
    "            return h\n",
    "        elif x < l:\n",
    "            return l\n",
    "        else:\n",
    "            return x\n",
    "        \n",
    "    return series.map(cap)    \n",
    "\n",
    "capped_games = pd.concat([games[['BGGId', 'Name']], games[plot_vars].apply(cap_col)], axis=1)"
   ]
  },
  {
   "cell_type": "markdown",
   "id": "233c80b9",
   "metadata": {},
   "source": [
    "Plotting the data to make sure it was really changed..."
   ]
  },
  {
   "cell_type": "code",
   "execution_count": 13,
   "id": "70529d93",
   "metadata": {},
   "outputs": [],
   "source": [
    "fig, ax = plt.subplots(2, 3, figsize=(15, 10))\n",
    "for i in range(2):\n",
    "    for j in range(3):\n",
    "        if 3*i + j < len(plot_vars):\n",
    "            ax[i, j].boxplot(capped_games[plot_vars[3*i + j]])\n",
    "            ax[i, j].title.set_text(plot_vars[3*i + j])\n",
    "            ax[i, j].axes.get_xaxis().set_visible(False) \n",
    "        else:\n",
    "            fig.delaxes(ax[i,j])\n",
    "            \n",
    "plt.show()"
   ]
  },
  {
   "cell_type": "markdown",
   "id": "87a00ec9",
   "metadata": {},
   "source": [
    "We see there aren't any extreme values anymore."
   ]
  },
  {
   "cell_type": "markdown",
   "id": "9754dea7",
   "metadata": {},
   "source": [
    "### How are the variables distributed?"
   ]
  },
  {
   "cell_type": "markdown",
   "id": "d8a43694",
   "metadata": {},
   "source": [
    "In particular, we would like to know whether the variables are normally distributed or not, as these determine what statistical methods will be most appropriate to apply."
   ]
  },
  {
   "cell_type": "code",
   "execution_count": 14,
   "id": "bbb93aed",
   "metadata": {},
   "outputs": [],
   "source": [
    "fig, ax = plt.subplots(2, 2, figsize=(12, 7))\n",
    "\n",
    "ax[0, 0].hist(capped_games['YearPublished'], bins=100, color='r')\n",
    "ax[0, 0].set_title('YearPublished')\n",
    "\n",
    "ax[0, 1].hist(capped_games['NumOwned'], bins=100, color='g')\n",
    "ax[0, 1].set_title('NumOwned')\n",
    "\n",
    "ax[1, 0].hist([capped_games['GameWeight'], capped_games['AvgRating']], bins=100)\n",
    "ax[1, 0].set_title('GameWeight, AvgRating')\n",
    "ax[1, 0].legend(['GameWeight', 'AvgRating'])\n",
    "\n",
    "ax[1, 1].hist(capped_games['ComAgeRec'], bins=100, color='m')\n",
    "ax[1, 1].set_title('ComAgeRec')\n",
    "\n",
    "plt.show()"
   ]
  },
  {
   "cell_type": "markdown",
   "id": "afcd66d2",
   "metadata": {},
   "source": [
    "Unfortunately, the only variable that is clearly normal is AvgRating. YearPublished and NumOwned also seem negatively and positively skewed, respectively."
   ]
  },
  {
   "cell_type": "markdown",
   "id": "07b9d08e",
   "metadata": {},
   "source": [
    "### How much variety of board games is there?\n",
    "There can obviously be many genres of board games, but we can also see how board games vary in terms of numerical variables, like their difficulty (GameWeight) or their recommended minimum age (MfgAgeRec). A measure of dispersion will give us an idea of the variety board games. We use standard deviation since unlike the IQR, it considers all data points instead of just 2."
   ]
  },
  {
   "cell_type": "code",
   "execution_count": 15,
   "id": "7d12a336",
   "metadata": {},
   "outputs": [],
   "source": [
    "capped_games[plot_vars].std(axis=0)"
   ]
  },
  {
   "cell_type": "markdown",
   "id": "a29aad0b",
   "metadata": {},
   "source": [
    "### What are the central tendencies of the variables?"
   ]
  },
  {
   "cell_type": "markdown",
   "id": "27e7bd9f",
   "metadata": {},
   "source": [
    "The median is the most appropriate measure to answer this because the variables are skewed and numerical."
   ]
  },
  {
   "cell_type": "code",
   "execution_count": 16,
   "id": "645f9ae7",
   "metadata": {},
   "outputs": [],
   "source": [
    "capped_games[plot_vars].median(axis=0)"
   ]
  },
  {
   "cell_type": "markdown",
   "id": "d09606aa",
   "metadata": {},
   "source": [
    "### How are the variables related to each other?"
   ]
  },
  {
   "cell_type": "markdown",
   "id": "c5367224",
   "metadata": {},
   "source": [
    "Before using numerical measurements, we first use scatter plots too get a visual sense of whether variables are related."
   ]
  },
  {
   "cell_type": "code",
   "execution_count": 17,
   "id": "122e9983",
   "metadata": {},
   "outputs": [],
   "source": [
    "pd.plotting.scatter_matrix(capped_games[plot_vars], figsize=(30, 20), alpha=0.2)\n",
    "plt.show()"
   ]
  },
  {
   "cell_type": "markdown",
   "id": "2c4fc792",
   "metadata": {},
   "source": [
    "The only pairs of variables whose graphs clearly show monotonic relationships are GameWeight and AvgRating, GameWeight and ComAgeRec, and AvgRating and ComAgeRec. We'll now measure the correlations between pairs of variables, using both Spearman and Pearson correlation to see whether they produce different results given that the data is skewed and not normal."
   ]
  },
  {
   "cell_type": "code",
   "execution_count": 18,
   "id": "72e7d063",
   "metadata": {},
   "outputs": [],
   "source": [
    "pearson_matrix = capped_games[plot_vars].corr(method='pearson')\n",
    "pearson_matrix"
   ]
  },
  {
   "cell_type": "code",
   "execution_count": 19,
   "id": "b0432957",
   "metadata": {},
   "outputs": [],
   "source": [
    "spearman_matrix = capped_games[plot_vars].corr(method='spearman')\n",
    "spearman_matrix"
   ]
  },
  {
   "cell_type": "markdown",
   "id": "2674a964",
   "metadata": {},
   "source": [
    "There doesn't seem to be a difference in the results of Pearson's correlation and Spearman's correlation."
   ]
  },
  {
   "cell_type": "code",
   "execution_count": 20,
   "id": "62926eeb",
   "metadata": {},
   "outputs": [],
   "source": [
    "plt.imshow(spearman_matrix, cmap='BrBG', vmin=-1, vmax=1)\n",
    "plt.xticks(np.arange(0., len(plot_vars), 1), labels=plot_vars, rotation=45)\n",
    "plt.yticks(np.arange(0., len(plot_vars), 1), labels=plot_vars)\n",
    "plt.colorbar()\n",
    "\n",
    "plt.show()"
   ]
  },
  {
   "cell_type": "markdown",
   "id": "8150ff3f",
   "metadata": {},
   "source": [
    "Above is a heat map visualization of the spearman correlation matrix. The heat map shows something interesting, that when variables are correlated, they are alwas positively correlated."
   ]
  },
  {
   "cell_type": "markdown",
   "id": "f3af6cf9",
   "metadata": {},
   "source": [
    "### Is there a significant relationship between the difficulty of a game and its average rating?"
   ]
  },
  {
   "cell_type": "markdown",
   "id": "57c23fc9",
   "metadata": {},
   "source": [
    "In the games dataframe, the GameWeight and AvgRating variables correspond to game difficulty and the average rating, respectively. "
   ]
  },
  {
   "cell_type": "code",
   "execution_count": 21,
   "id": "3596d22b",
   "metadata": {},
   "outputs": [],
   "source": [
    "plt.scatter(capped_games['GameWeight'], capped_games['AvgRating'], s=2)\n",
    "plt.xlabel('GameWeight')\n",
    "plt.ylabel('AvgRating')\n",
    "plt.show()"
   ]
  },
  {
   "cell_type": "markdown",
   "id": "7cd1f9f8",
   "metadata": {},
   "source": [
    "As noted earlier, game difficulty and and average rating visually seem positively related. We can perform a statistical test to determine whether this relationship is significant. We chose Spearman's correlation over Pearson's since it is not stricly limited to linear relationships."
   ]
  },
  {
   "cell_type": "markdown",
   "id": "fc901c25",
   "metadata": {},
   "source": [
    "$H_0$ - The correlation between game difficulty and average rating is negative or non-existent. \\\n",
    "$H_A$ - The correlation between game difficulty and average rating is positive."
   ]
  },
  {
   "cell_type": "code",
   "execution_count": 22,
   "id": "28592180",
   "metadata": {},
   "outputs": [],
   "source": [
    "result = sp.spearmanr(capped_games['GameWeight'], capped_games['AvgRating'], alternative='greater')\n",
    "print(f'Statistic: {result.statistic}, p-value: {result.pvalue}')"
   ]
  },
  {
   "cell_type": "markdown",
   "id": "010d906e",
   "metadata": {},
   "source": [
    "The p-value may have been a small enough number that scipy decided to round it down to 0. Regardless, at 0.05 significance level, there is strong evidence that board games difficulty is positively related to average rating, i.e. more difficult games tend to be rated higher."
   ]
  },
  {
   "cell_type": "markdown",
   "id": "2fd0102c",
   "metadata": {},
   "source": [
    "# Research Question"
   ]
  },
  {
   "cell_type": "markdown",
   "id": "d9c69399",
   "metadata": {},
   "source": [
    "From our exploration, it is clear that board games are diverse, with their variables having different distributions, dispersions, having different ranges and central tendencies. Some of those variables are related. Which such diversity, finding a way to group similar board games together would paint a better picture of the current \"landscape\" of board games. \n",
    "\n",
    "A board game manufacturer may be interested in what board games are popular to increase their sales. For example, there may be a group of board games that are low rated but still popular due to being playable by ages. Or maybe a group of old games that are considered niche in modern times, but very highly rated within their playerbases. This information may also be useful to board game enthusiasts who need more information to decide what games they should purchase."
   ]
  },
  {
   "cell_type": "markdown",
   "id": "e7e78cb5",
   "metadata": {},
   "source": [
    "> The research question we aim to answer is: How should board games be grouped?"
   ]
  },
  {
   "cell_type": "code",
   "execution_count": null,
   "id": "f8cc30af",
   "metadata": {},
   "outputs": [],
   "source": []
  }
 ],
 "metadata": {
  "kernelspec": {
   "display_name": "Python 3 (ipykernel)",
   "language": "python",
   "name": "python3"
  },
  "language_info": {
   "codemirror_mode": {
    "name": "ipython",
    "version": 3
   },
   "file_extension": ".py",
   "mimetype": "text/x-python",
   "name": "python",
   "nbconvert_exporter": "python",
   "pygments_lexer": "ipython3",
   "version": "3.11.1"
  }
 },
 "nbformat": 4,
 "nbformat_minor": 5
}
